{
 "cells": [
  {
   "cell_type": "markdown",
   "metadata": {},
   "source": [
    "# Import the libraries that are necesaries"
   ]
  },
  {
   "cell_type": "code",
   "execution_count": 13,
   "metadata": {},
   "outputs": [],
   "source": [
    "import pandas as pd\n",
    "import getpass  # To get the password without showing the input\n",
    "from sqlalchemy import create_engine\n",
    "import yaml"
   ]
  },
  {
   "cell_type": "code",
   "execution_count": 14,
   "metadata": {},
   "outputs": [],
   "source": [
    "# Load configuration from config.yaml\n",
    "with open('../config.yaml', 'r') as config_file:\n",
    "    config = yaml.safe_load(config_file)"
   ]
  },
  {
   "cell_type": "markdown",
   "metadata": {},
   "source": [
    "## Get the necesary information to connect to mysql\n",
    " ** important note remmember the password that you use for mysql**"
   ]
  },
  {
   "cell_type": "code",
   "execution_count": 15,
   "metadata": {},
   "outputs": [],
   "source": [
    "# Specify your MySQL database connection details\n",
    "password = getpass.getpass()\n",
    "user = 'root'\n",
    "database_name = 'ab_test'\n",
    "engine = connect_to_db(user, password, database_name)"
   ]
  },
  {
   "cell_type": "markdown",
   "metadata": {},
   "source": [
    "### Read the CSVs"
   ]
  },
  {
   "cell_type": "code",
   "execution_count": 16,
   "metadata": {},
   "outputs": [],
   "source": [
    "# Read CSVs using paths from config\n",
    "data_demo = pd.read_csv(config['data_paths']['demo'])\n",
    "data_experiment_clients = pd.read_csv(config['data_paths']['experiment'])\n",
    "data_web_pt_1 = pd.read_csv(config['data_paths']['web_data_1'])\n",
    "data_web_pt_2 = pd.read_csv(config['data_paths']['web_data_2'])"
   ]
  },
  {
   "cell_type": "markdown",
   "metadata": {},
   "source": [
    "# Import the data of all datasets"
   ]
  },
  {
   "cell_type": "code",
   "execution_count": 17,
   "metadata": {},
   "outputs": [],
   "source": [
    "# Insert df_final_demo data\n",
    "insert_to_table(data_demo, engine, 'df_final_demo')"
   ]
  },
  {
   "cell_type": "code",
   "execution_count": 18,
   "metadata": {},
   "outputs": [],
   "source": [
    "# Insert df_final_experiment_clients data\n",
    "insert_to_table(data_experiment_clients, engine, 'df_final_experiment_clients')"
   ]
  },
  {
   "cell_type": "markdown",
   "metadata": {},
   "source": [
    "### Merge and separate the data"
   ]
  },
  {
   "cell_type": "code",
   "execution_count": 19,
   "metadata": {},
   "outputs": [],
   "source": [
    "# Merge df_final_web_data_pt_1 and df_final_web_data_pt_2\n",
    "merged_data = pd.concat([data_web_pt_1, data_web_pt_2], ignore_index=True)"
   ]
  },
  {
   "cell_type": "code",
   "execution_count": null,
   "metadata": {},
   "outputs": [],
   "source": [
    "# Filter and insert to df_final_web_data table\n",
    "unique_client_ids = data_demo['client_id'].unique()\n",
    "filtered_data = filter_data(merged_data, unique_client_ids)\n",
    "reset_index(filtered_data)\n",
    "insert_to_table(filtered_data, engine, 'df_final_web_data')"
   ]
  },
  {
   "cell_type": "code",
   "execution_count": null,
   "metadata": {},
   "outputs": [],
   "source": [
    "# Find and insert removed data to df_final_web_data_missing table\n",
    "removed_data = merged_data[~merged_data['client_id'].isin(unique_client_ids)]\n",
    "reset_index(removed_data)\n",
    "insert_to_table(removed_data, engine, 'df_final_web_data_missing')"
   ]
  }
 ],
 "metadata": {
  "kernelspec": {
   "display_name": "base",
   "language": "python",
   "name": "python3"
  },
  "language_info": {
   "codemirror_mode": {
    "name": "ipython",
    "version": 3
   },
   "file_extension": ".py",
   "mimetype": "text/x-python",
   "name": "python",
   "nbconvert_exporter": "python",
   "pygments_lexer": "ipython3",
   "version": "3.11.5"
  }
 },
 "nbformat": 4,
 "nbformat_minor": 2
}
