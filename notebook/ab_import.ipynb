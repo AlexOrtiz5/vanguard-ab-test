{
 "cells": [
  {
   "cell_type": "markdown",
   "metadata": {},
   "source": [
    "# Import the libraries that are necesaries"
   ]
  },
  {
   "cell_type": "code",
   "execution_count": 1,
   "metadata": {},
   "outputs": [],
   "source": [
    "import pandas as pd\n",
    "import getpass  # To get the password without showing the input\n",
    "from sqlalchemy import create_engine\n",
    "import yaml\n",
    "import sys\n",
    "import os\n",
    "\n",
    "# Add the project root directory to the Python path\n",
    "sys.path.append(os.path.abspath('../'))\n",
    "\n",
    "# Load functions from ab_clean.py\n",
    "from src.functions.ab_clean import *"
   ]
  },
  {
   "cell_type": "code",
   "execution_count": 2,
   "metadata": {},
   "outputs": [],
   "source": [
    "# Load configuration from config.yaml\n",
    "with open('../config.yaml', 'r') as config_file:\n",
    "    config = yaml.safe_load(config_file)"
   ]
  },
  {
   "cell_type": "markdown",
   "metadata": {},
   "source": [
    "## Get the necesary information to connect to mysql\n",
    " ** important note remmember the password that you use for mysql**"
   ]
  },
  {
   "cell_type": "code",
   "execution_count": 3,
   "metadata": {},
   "outputs": [],
   "source": [
    "# Specify your MySQL database connection details\n",
    "password = getpass.getpass()\n",
    "user = 'root'\n",
    "database_name = 'ab_test'\n",
    "engine = connect_to_db(user, password, database_name)"
   ]
  },
  {
   "cell_type": "markdown",
   "metadata": {},
   "source": [
    "### Read the CSVs"
   ]
  },
  {
   "cell_type": "code",
   "execution_count": 4,
   "metadata": {},
   "outputs": [],
   "source": [
    "# Read CSVs using paths from config\n",
    "data_demo = pd.read_csv(config['data_paths']['clean_demo'])\n",
    "data_experiment_clients = pd.read_csv(config['data_paths']['clean_experiment'])\n",
    "data_web_pt_1 = pd.read_csv(config['data_paths']['clean_web_data_1'])\n",
    "data_web_pt_2 = pd.read_csv(config['data_paths']['clean_web_data_2'])"
   ]
  },
  {
   "cell_type": "markdown",
   "metadata": {},
   "source": [
    "# Import the data of all datasets"
   ]
  },
  {
   "cell_type": "markdown",
   "metadata": {},
   "source": [
    "### Insert the data to the final demo table"
   ]
  },
  {
   "cell_type": "code",
   "execution_count": 5,
   "metadata": {},
   "outputs": [],
   "source": [
    "# Insert df_final_demo data\n",
    "insert_to_table(data_demo, engine, 'df_final_demo')"
   ]
  },
  {
   "cell_type": "markdown",
   "metadata": {},
   "source": [
    "### Put only the client_id that exist in the final demo"
   ]
  },
  {
   "cell_type": "code",
   "execution_count": 6,
   "metadata": {},
   "outputs": [],
   "source": [
    "# Find client IDs in df_final_demo that are not missing in df_final_experiment_clients\n",
    "non_missing_clients = data_experiment_clients[data_experiment_clients['client_id'].isin(data_demo['client_id'])]\n",
    "\n",
    "# Insert non-missing clients into df_missing_clients table\n",
    "insert_to_table(non_missing_clients, engine, 'df_final_experiment_clients')"
   ]
  },
  {
   "cell_type": "markdown",
   "metadata": {},
   "source": [
    "### Merge and separate the data"
   ]
  },
  {
   "cell_type": "code",
   "execution_count": 7,
   "metadata": {},
   "outputs": [],
   "source": [
    "# Merge df_final_web_data_pt_1 and df_final_web_data_pt_2\n",
    "merged_data = pd.concat([data_web_pt_1, data_web_pt_2], ignore_index=True)"
   ]
  },
  {
   "cell_type": "code",
   "execution_count": 8,
   "metadata": {},
   "outputs": [
    {
     "name": "stderr",
     "output_type": "stream",
     "text": [
      "c:\\Users\\lualg\\Downloads\\IronHack\\Project\\Project-2\\vanguard-ab-test\\src\\functions\\ab_clean.py:39: SettingWithCopyWarning: \n",
      "A value is trying to be set on a copy of a slice from a DataFrame\n",
      "\n",
      "See the caveats in the documentation: https://pandas.pydata.org/pandas-docs/stable/user_guide/indexing.html#returning-a-view-versus-a-copy\n",
      "  data.rename(columns={'index': 'id'}, inplace=True)\n"
     ]
    }
   ],
   "source": [
    "# Filter and insert to df_final_web_data table\n",
    "unique_client_ids = data_demo['client_id'].unique()\n",
    "filtered_data = filter_data(merged_data, unique_client_ids)\n",
    "reset_index(filtered_data)\n",
    "insert_to_table(filtered_data, engine, 'df_final_web_data')"
   ]
  },
  {
   "cell_type": "code",
   "execution_count": 9,
   "metadata": {},
   "outputs": [
    {
     "name": "stderr",
     "output_type": "stream",
     "text": [
      "c:\\Users\\lualg\\Downloads\\IronHack\\Project\\Project-2\\vanguard-ab-test\\src\\functions\\ab_clean.py:39: SettingWithCopyWarning: \n",
      "A value is trying to be set on a copy of a slice from a DataFrame\n",
      "\n",
      "See the caveats in the documentation: https://pandas.pydata.org/pandas-docs/stable/user_guide/indexing.html#returning-a-view-versus-a-copy\n",
      "  data.rename(columns={'index': 'id'}, inplace=True)\n"
     ]
    }
   ],
   "source": [
    "# Find and insert removed data to df_final_web_data_missing table\n",
    "removed_data = merged_data[~merged_data['client_id'].isin(unique_client_ids)]\n",
    "reset_index(removed_data)\n",
    "insert_to_table(removed_data, engine, 'df_final_web_data_missing')"
   ]
  }
 ],
 "metadata": {
  "kernelspec": {
   "display_name": "base",
   "language": "python",
   "name": "python3"
  },
  "language_info": {
   "codemirror_mode": {
    "name": "ipython",
    "version": 3
   },
   "file_extension": ".py",
   "mimetype": "text/x-python",
   "name": "python",
   "nbconvert_exporter": "python",
   "pygments_lexer": "ipython3",
   "version": "3.11.5"
  }
 },
 "nbformat": 4,
 "nbformat_minor": 2
}
