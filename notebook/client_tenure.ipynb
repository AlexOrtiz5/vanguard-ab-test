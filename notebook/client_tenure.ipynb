{
 "cells": [
  {
   "cell_type": "markdown",
   "metadata": {},
   "source": [
    "# Hypotesis 1:\n",
    "Hypothesis on Client Tenure:\n",
    "    Null Hypothesis (H0): The average client tenure (how long they’ve been with Vanguard) of those engaging with the new process is the same as those engaging with the old process.\n",
    "    \n",
    "    Alternative Hypothesis (H1): The average client tenure of those engaging with the new process is different from those engaging with the old process."
   ]
  },
  {
   "cell_type": "code",
   "execution_count": null,
   "metadata": {},
   "outputs": [],
   "source": []
  },
  {
   "cell_type": "markdown",
   "metadata": {},
   "source": [
    "# Hypotesis 2:\n",
    "Hypothesis on Client Tenure-Related Completion Rate:\n",
    "    Null Hypothesis (H0): Client tenure does not significantly impact the completion rate for the new design.\n",
    "    \n",
    "    Alternative Hypothesis (H1): Client tenure significantly impacts the completion rate for the new design."
   ]
  }
 ],
 "metadata": {
  "language_info": {
   "name": "python"
  }
 },
 "nbformat": 4,
 "nbformat_minor": 2
}
